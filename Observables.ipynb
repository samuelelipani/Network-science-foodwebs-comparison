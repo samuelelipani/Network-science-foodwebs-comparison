{
 "cells": [
  {
   "cell_type": "markdown",
   "metadata": {
    "cell_id": "c1082070-61b3-40e3-af99-905003664be1",
    "deepnote_cell_type": "markdown"
   },
   "source": [
    "# Computation of the core quantitative observables:\n",
    " * top species\n",
    " * basal species\n",
    " * Robustness\n",
    " * Assortativity\n",
    " * Gamma in/out\n"
   ]
  },
  {
   "cell_type": "markdown",
   "metadata": {
    "cell_id": "00001-5e6573dc-facd-4a60-b06e-ec491f523a12",
    "deepnote_cell_type": "markdown"
   },
   "source": [
    "**Idea:**\n",
    "To produce a function for each observables, and use them to create a function which, given a fw adjacency matrix, compiles a pd.Series with all the \"name\":vaues of the obsservables for the given FW"
   ]
  },
  {
   "cell_type": "code",
   "execution_count": 1,
   "metadata": {
    "cell_id": "00002-5c385ff0-b45c-40af-82e2-ec9bdfe1ab06",
    "deepnote_cell_type": "code",
    "deepnote_to_be_reexecuted": false,
    "execution_millis": 4657,
    "execution_start": 1643329579807,
    "source_hash": "a218d465"
   },
   "outputs": [],
   "source": [
    "import numpy as np\n",
    "import pandas as pd\n",
    "import matplotlib.pyplot as plt\n",
    "import FoodWebAnalysis as fw\n",
    "import networkx as nx"
   ]
  },
  {
   "cell_type": "code",
   "execution_count": 6,
   "metadata": {
    "cell_id": "00003-581d6e9b-2fb2-4bf4-8bf7-2b15e3323b39",
    "deepnote_cell_type": "code",
    "deepnote_to_be_reexecuted": false,
    "execution_millis": 9262,
    "execution_start": 1643329584481,
    "source_hash": "8ab3559e"
   },
   "outputs": [],
   "source": [
    "#import experimental dataset and cast as pd.Series\n",
    "dataset_names = [\"FW_\"+ n for n in [\"004\",\"007\",\"008\",\"010\",\"016_01\"]]\n",
    "data = pd.Series(data=[fw.load_df(nam+\".csv\",to_bool=True,normalize=False) for nam in dataset_names],index=dataset_names)\n",
    "\n",
    "#import model generators and cast as pd.Series\n",
    "model_names = [\"cascade\", \"niche\", \"nested\"]\n",
    "models = pd.Series(data=[fw.generate_cascade, fw.generate_niche, fw.generate_nested],index=model_names)\n",
    "\n",
    "# # load the sintetic foodwebs from file (import seed Ceff and Seff and rigenerate the FW from them), also appends the experimental datasets\n",
    "# SEED = pd.read_json(\"./generated_FW/SEED_2022-01-27 19:33:27.548880.json\")\n",
    "# CEFF = pd.read_json(\"./generated_FW/CEFF_2022-01-27 19:33:27.548880.json\")\n",
    "# SEFF = pd.read_json(\"./generated_FW/SEFF_2022-01-27 19:33:27.548880.json\")\n",
    "# DATA = fw.generate_FW_DATA(data,models,SEED=SEED,CEFF=CEFF,SEFF=SEFF)"
   ]
  },
  {
   "cell_type": "code",
   "execution_count": 31,
   "id": "beca9ed9",
   "metadata": {},
   "outputs": [],
   "source": [
    "DATA = pd.read_csv(\"DATA.csv\", index_col=0)\n",
    "# DATA.drop(DATA.columns[0], axis = 1, inplace = True)"
   ]
  },
  {
   "cell_type": "code",
   "execution_count": null,
   "metadata": {
    "cell_id": "00004-50b08ca6-4f8e-4933-87de-41136c1b1f2b",
    "deepnote_cell_type": "code",
    "deepnote_output_heights": [
     90
    ],
    "deepnote_to_be_reexecuted": false,
    "execution_millis": 1286,
    "execution_start": 1643329593754,
    "source_hash": "d3e30f11"
   },
   "outputs": [],
   "source": []
  },
  {
   "cell_type": "code",
   "execution_count": 36,
   "metadata": {
    "cell_id": "00005-af22404f-ef6f-479e-82ee-6b399db5b156",
    "deepnote_cell_type": "code",
    "deepnote_output_heights": [
     121
    ],
    "deepnote_to_be_reexecuted": false,
    "execution_millis": 299,
    "execution_start": 1643329595043,
    "source_hash": "3b21abc8"
   },
   "outputs": [
    {
     "data": {
      "text/plain": [
       "'    0   1   2   3   4   5   6   7   8   9   ...  38  39  40  41  42  43  44  \\\\\\n0    0   1   1   0   0   1   0   0   0   0  ...   0   0   1   0   0   0   0   \\n1    0   0   0   0   1   0   0   0   0   1  ...   0   0   0   0   0   0   0   \\n2    0   0   0   0   1   0   1   0   0   0  ...   0   0   0   0   0   1   0   \\n3    0   1   1   0   0   1   0   0   0   0  ...   0   0   0   0   0   0   0   \\n4    0   0   0   0   0   0   0   0   0   0  ...   0   0   0   0   0   1   0   \\n5    0   0   0   0   1   0   1   0   0   0  ...   0   0   0   0   0   1   0   \\n6    0   0   0   0   0   0   0   0   0   0  ...   0   0   0   0   0   1   0   \\n7    0   0   0   0   0   0   0   0   0   0  ...   1   0   0   0   0   0   0   \\n8    0   0   0   0   0   0   0   0   0   0  ...   0   0   0   0   0   1   0   \\n9    0   0   0   0   1   0   0   0   0   0  ...   0   0   0   0   0   0   0   \\n10   1   0   0   1   0   0   0   0   0   0  ...   0   0   0   0   0   0   0   \\n11   0   0   0   0   1   0   1   0   0   0  ...   0   0   0   0   0   1   0   \\n12   0   0   0   0   0   0   0   0   0   0  ...   0   0   0   0   0   1   0   \\n13   0   0   0   0   0   0   0   0   0   0  ...   0   0   0   0   0   0   0   \\n14   0   0   0   0   0   0   0   0   0   1  ...   0   0   0   0   0   0   0   \\n15   0   0   0   0   0   0   0   0   0   0  ...   0   0   0   0   0   1   0   \\n16   0   0   0   0   0   0   0   0   0   1  ...   0   0   0   0   0   0   0   \\n17   0   0   0   0   0   0   0   0   0   0  ...   0   0   0   0   0   1   0   \\n18   0   0   0   0   0   0   0   0   0   1  ...   0   0   0   0   0   0   0   \\n19   0   0   0   0   0   0   0   0   0   1  ...   0   0   0   0   0   0   0   \\n20   0   0   0   0   0   0   0   0   0   0  ...   0   0   0   0   0   1   0   \\n21   0   0   0   0   0   0   0   0   0   0  ...   0   0   1   0   0   0   0   \\n22   0   0   0   0   0   1   0   0   1   0  ...   0   0   0   0   0   0   1   \\n23   0   0   0   0   0   0   0   0   0   0  ...   0   0   0   0   0   1   0   \\n24   0   0   0   0   1   0   1   0   0   0  ...   0   0   0   0   0   1   0   \\n25   0   0   0   0   0   0   0   0   0   0  ...   0   0   0   0   0   0   0   \\n26   0   0   0   0   0   0   0   0   0   0  ...   0   0   0   0   0   1   0   \\n27   1   0   0   0   0   0   0   0   0   0  ...   0   0   0   0   0   0   0   \\n28   0   0   0   0   0   0   0   0   0   0  ...   0   0   0   0   0   1   0   \\n29   0   0   0   0   0   0   0   0   0   0  ...   0   0   0   0   0   1   0   \\n30   0   0   0   0   0   0   0   0   0   0  ...   0   0   0   0   0   1   0   \\n31   0   0   0   0   0   0   0   0   0   0  ...   0   0   0   0   0   1   0   \\n32   1   0   0   1   0   0   0   0   0   0  ...   0   0   0   0   0   0   0   \\n33   0   0   0   0   0   1   0   0   1   0  ...   0   0   0   0   0   0   0   \\n34   0   0   0   0   0   0   0   0   0   0  ...   0   0   0   0   0   1   0   \\n35   0   1   0   0   0   1   0   0   0   0  ...   0   0   1   0   0   0   0   \\n36   0   1   1   0   0   1   0   0   1   0  ...   0   0   0   0   0   0   1   \\n37   0   0   0   0   0   0   0   0   0   0  ...   0   0   0   0   0   1   0   \\n38   0   0   0   0   1   0   1   0   0   0  ...   0   0   0   0   0   1   0   \\n39   0   1   1   0   0   1   0   0   1   0  ...   0   0   0   0   0   0   0   \\n40   0   0   0   0   1   0   1   0   0   0  ...   0   0   0   0   0   1   0   \\n41   1   0   0   0   0   0   0   0   0   0  ...   0   0   0   0   0   0   0   \\n42   0   1   1   0   0   1   0   0   1   0  ...   0   0   0   0   0   0   0   \\n43   0   0   0   0   0   0   0   0   0   0  ...   0   0   0   0   0   0   0   \\n44   0   0   0   0   0   0   0   0   0   1  ...   0   0   0   0   0   0   0   \\n45   0   0   0   0   0   0   0   0   0   0  ...   0   0   0   0   0   1   0   \\n46   1   0   0   0   0   0   0   0   0   0  ...   0   0   0   0   0   0   0   \\n47   0   0   0   0   0   0   0   0   0   0  ...   0   0   0   0   0   1   0   \\n\\n    45  46  47  \\n0    0   0   0  \\n1    0   0   0  \\n2    0   0   0  \\n3    0   0   0  \\n4    0   0   0  \\n5    0   0   0  \\n6    0   0   0  \\n7    0   0   0  \\n8    0   0   0  \\n9    0   0   0  \\n10   0   1   0  \\n11   0   0   0  \\n12   0   0   0  \\n13   0   0   0  \\n14   0   0   0  \\n15   1   0   0  \\n16   0   0   0  \\n17   1   0   0  \\n18   0   0   0  \\n19   0   0   0  \\n20   0   0   0  \\n21   0   0   0  \\n22   0   0   0  \\n23   0   0   0  \\n24   0   0   0  \\n25   0   0   0  \\n26   1   0   0  \\n27   0   0   1  \\n28   1   0   0  \\n29   0   0   0  \\n30   1   0   0  \\n31   1   0   0  \\n32   0   1   0  \\n33   0   0   0  \\n34   0   0   0  \\n35   0   0   0  \\n36   0   0   0  \\n37   1   0   0  \\n38   0   0   0  \\n39   0   0   0  \\n40   0   0   0  \\n41   0   0   0  \\n42   0   0   0  \\n43   0   0   0  \\n44   0   0   0  \\n45   0   0   0  \\n46   0   0   1  \\n47   0   0   0  \\n\\n[48 rows x 48 columns]'"
      ]
     },
     "execution_count": 36,
     "metadata": {},
     "output_type": "execute_result"
    }
   ],
   "source": [
    "DATA.iloc[1,2]"
   ]
  },
  {
   "cell_type": "markdown",
   "metadata": {
    "cell_id": "00006-9be149de-a0c3-4751-96b6-3c58609ed5da",
    "deepnote_cell_type": "markdown"
   },
   "source": [
    "## Top and basal species"
   ]
  },
  {
   "cell_type": "code",
   "execution_count": null,
   "metadata": {
    "cell_id": "00007-6eba436d-814f-4c4a-98e2-46ef39cc7497",
    "deepnote_cell_type": "code",
    "deepnote_to_be_reexecuted": false,
    "execution_millis": 1,
    "execution_start": 1643329699068,
    "source_hash": "51863457"
   },
   "outputs": [],
   "source": [
    "def relative_basal_species(A):\n",
    "    return np.round(fw.basal_species(A).sum()/len(A),decimals=3)\n",
    "def relative_top_species(A):\n",
    "    return np.round(fw.top_species_cann(A).sum()/len(A),decimals=3)"
   ]
  },
  {
   "cell_type": "code",
   "execution_count": null,
   "metadata": {
    "cell_id": "00008-92c497ee-32bd-423f-8f4c-44dca2b83624",
    "deepnote_cell_type": "code",
    "deepnote_output_heights": [
     176
    ],
    "deepnote_to_be_reexecuted": false,
    "execution_millis": 186,
    "execution_start": 1643329700012,
    "source_hash": "13035d69"
   },
   "outputs": [
    {
     "data": {
      "application/vnd.deepnote.dataframe.v3+json": {
       "column_count": 4,
       "columns": [
        {
         "dtype": "float64",
         "name": "experimetal",
         "stats": {
          "histogram": [
           {
            "bin_end": 0.1094,
            "bin_start": 0.103,
            "count": 1
           },
           {
            "bin_end": 0.1158,
            "bin_start": 0.1094,
            "count": 0
           },
           {
            "bin_end": 0.1222,
            "bin_start": 0.1158,
            "count": 0
           },
           {
            "bin_end": 0.1286,
            "bin_start": 0.1222,
            "count": 2
           },
           {
            "bin_end": 0.135,
            "bin_start": 0.1286,
            "count": 0
           },
           {
            "bin_end": 0.1414,
            "bin_start": 0.135,
            "count": 0
           },
           {
            "bin_end": 0.1478,
            "bin_start": 0.1414,
            "count": 0
           },
           {
            "bin_end": 0.1542,
            "bin_start": 0.1478,
            "count": 0
           },
           {
            "bin_end": 0.16060000000000002,
            "bin_start": 0.1542,
            "count": 0
           },
           {
            "bin_end": 0.167,
            "bin_start": 0.16060000000000002,
            "count": 2
           }
          ],
          "max": "0.167",
          "min": "0.103",
          "nan_count": 0,
          "unique_count": 4
         }
        },
        {
         "dtype": "float64",
         "name": "cascade",
         "stats": {
          "histogram": [
           {
            "bin_end": 0.6273,
            "bin_start": 0.595,
            "count": 1
           },
           {
            "bin_end": 0.6596,
            "bin_start": 0.6273,
            "count": 0
           },
           {
            "bin_end": 0.6919,
            "bin_start": 0.6596,
            "count": 1
           },
           {
            "bin_end": 0.7242,
            "bin_start": 0.6919,
            "count": 1
           },
           {
            "bin_end": 0.7565,
            "bin_start": 0.7242,
            "count": 0
           },
           {
            "bin_end": 0.7888000000000001,
            "bin_start": 0.7565,
            "count": 0
           },
           {
            "bin_end": 0.8211,
            "bin_start": 0.7888000000000001,
            "count": 1
           },
           {
            "bin_end": 0.8534,
            "bin_start": 0.8211,
            "count": 0
           },
           {
            "bin_end": 0.8857,
            "bin_start": 0.8534,
            "count": 0
           },
           {
            "bin_end": 0.918,
            "bin_start": 0.8857,
            "count": 1
           }
          ],
          "max": "0.918",
          "min": "0.595",
          "nan_count": 0,
          "unique_count": 5
         }
        },
        {
         "dtype": "float64",
         "name": "niche",
         "stats": {
          "histogram": [
           {
            "bin_end": 0.1158,
            "bin_start": 0.094,
            "count": 1
           },
           {
            "bin_end": 0.1376,
            "bin_start": 0.1158,
            "count": 0
           },
           {
            "bin_end": 0.1594,
            "bin_start": 0.1376,
            "count": 1
           },
           {
            "bin_end": 0.1812,
            "bin_start": 0.1594,
            "count": 0
           },
           {
            "bin_end": 0.203,
            "bin_start": 0.1812,
            "count": 0
           },
           {
            "bin_end": 0.2248,
            "bin_start": 0.203,
            "count": 0
           },
           {
            "bin_end": 0.2466,
            "bin_start": 0.2248,
            "count": 2
           },
           {
            "bin_end": 0.26839999999999997,
            "bin_start": 0.2466,
            "count": 0
           },
           {
            "bin_end": 0.2902,
            "bin_start": 0.26839999999999997,
            "count": 0
           },
           {
            "bin_end": 0.312,
            "bin_start": 0.2902,
            "count": 1
           }
          ],
          "max": "0.312",
          "min": "0.094",
          "nan_count": 0,
          "unique_count": 5
         }
        },
        {
         "dtype": "float64",
         "name": "nested",
         "stats": {
          "histogram": [
           {
            "bin_end": 0.16570000000000001,
            "bin_start": 0.154,
            "count": 2
           },
           {
            "bin_end": 0.1774,
            "bin_start": 0.16570000000000001,
            "count": 0
           },
           {
            "bin_end": 0.1891,
            "bin_start": 0.1774,
            "count": 0
           },
           {
            "bin_end": 0.2008,
            "bin_start": 0.1891,
            "count": 0
           },
           {
            "bin_end": 0.21250000000000002,
            "bin_start": 0.2008,
            "count": 0
           },
           {
            "bin_end": 0.2242,
            "bin_start": 0.21250000000000002,
            "count": 1
           },
           {
            "bin_end": 0.2359,
            "bin_start": 0.2242,
            "count": 0
           },
           {
            "bin_end": 0.24760000000000001,
            "bin_start": 0.2359,
            "count": 1
           },
           {
            "bin_end": 0.25930000000000003,
            "bin_start": 0.24760000000000001,
            "count": 0
           },
           {
            "bin_end": 0.271,
            "bin_start": 0.25930000000000003,
            "count": 1
           }
          ],
          "max": "0.271",
          "min": "0.154",
          "nan_count": 0,
          "unique_count": 5
         }
        },
        {
         "dtype": "object",
         "name": "_deepnote_index_column"
        }
       ],
       "row_count": 5,
       "rows": [
        {
         "_deepnote_index_column": "FW_004",
         "cascade": 0.688,
         "experimetal": 0.125,
         "nested": 0.219,
         "niche": 0.094
        },
        {
         "_deepnote_index_column": "FW_007",
         "cascade": 0.812,
         "experimetal": 0.125,
         "nested": 0.271,
         "niche": 0.312
        },
        {
         "_deepnote_index_column": "FW_008",
         "cascade": 0.918,
         "experimetal": 0.167,
         "nested": 0.157,
         "niche": 0.144
        },
        {
         "_deepnote_index_column": "FW_010",
         "cascade": 0.718,
         "experimetal": 0.103,
         "nested": 0.154,
         "niche": 0.231
        },
        {
         "_deepnote_index_column": "FW_016_01",
         "cascade": 0.595,
         "experimetal": 0.162,
         "nested": 0.243,
         "niche": 0.243
        }
       ]
      },
      "text/html": [
       "<div>\n",
       "<style scoped>\n",
       "    .dataframe tbody tr th:only-of-type {\n",
       "        vertical-align: middle;\n",
       "    }\n",
       "\n",
       "    .dataframe tbody tr th {\n",
       "        vertical-align: top;\n",
       "    }\n",
       "\n",
       "    .dataframe thead th {\n",
       "        text-align: right;\n",
       "    }\n",
       "</style>\n",
       "<table border=\"1\" class=\"dataframe\">\n",
       "  <thead>\n",
       "    <tr style=\"text-align: right;\">\n",
       "      <th></th>\n",
       "      <th>experimetal</th>\n",
       "      <th>cascade</th>\n",
       "      <th>niche</th>\n",
       "      <th>nested</th>\n",
       "    </tr>\n",
       "  </thead>\n",
       "  <tbody>\n",
       "    <tr>\n",
       "      <th>FW_004</th>\n",
       "      <td>0.125</td>\n",
       "      <td>0.688</td>\n",
       "      <td>0.094</td>\n",
       "      <td>0.219</td>\n",
       "    </tr>\n",
       "    <tr>\n",
       "      <th>FW_007</th>\n",
       "      <td>0.125</td>\n",
       "      <td>0.812</td>\n",
       "      <td>0.312</td>\n",
       "      <td>0.271</td>\n",
       "    </tr>\n",
       "    <tr>\n",
       "      <th>FW_008</th>\n",
       "      <td>0.167</td>\n",
       "      <td>0.918</td>\n",
       "      <td>0.144</td>\n",
       "      <td>0.157</td>\n",
       "    </tr>\n",
       "    <tr>\n",
       "      <th>FW_010</th>\n",
       "      <td>0.103</td>\n",
       "      <td>0.718</td>\n",
       "      <td>0.231</td>\n",
       "      <td>0.154</td>\n",
       "    </tr>\n",
       "    <tr>\n",
       "      <th>FW_016_01</th>\n",
       "      <td>0.162</td>\n",
       "      <td>0.595</td>\n",
       "      <td>0.243</td>\n",
       "      <td>0.243</td>\n",
       "    </tr>\n",
       "  </tbody>\n",
       "</table>\n",
       "</div>"
      ],
      "text/plain": [
       "           experimetal  cascade  niche  nested\n",
       "FW_004           0.125    0.688  0.094   0.219\n",
       "FW_007           0.125    0.812  0.312   0.271\n",
       "FW_008           0.167    0.918  0.144   0.157\n",
       "FW_010           0.103    0.718  0.231   0.154\n",
       "FW_016_01        0.162    0.595  0.243   0.243"
      ]
     },
     "execution_count": 8,
     "metadata": {},
     "output_type": "execute_result"
    }
   ],
   "source": [
    "DATA.applymap(relative_basal_species)"
   ]
  },
  {
   "cell_type": "code",
   "execution_count": null,
   "metadata": {
    "cell_id": "00009-1056fc83-2d38-49d6-ad69-b7df8f1c7540",
    "deepnote_cell_type": "code",
    "deepnote_output_heights": [
     176
    ],
    "deepnote_to_be_reexecuted": false,
    "execution_millis": 90,
    "execution_start": 1643329713098,
    "source_hash": "178e44cc"
   },
   "outputs": [
    {
     "data": {
      "application/vnd.deepnote.dataframe.v3+json": {
       "column_count": 4,
       "columns": [
        {
         "dtype": "float64",
         "name": "experimetal",
         "stats": {
          "histogram": [
           {
            "bin_end": 0.0188,
            "bin_start": 0,
            "count": 1
           },
           {
            "bin_end": 0.0376,
            "bin_start": 0.0188,
            "count": 0
           },
           {
            "bin_end": 0.056400000000000006,
            "bin_start": 0.0376,
            "count": 0
           },
           {
            "bin_end": 0.0752,
            "bin_start": 0.056400000000000006,
            "count": 1
           },
           {
            "bin_end": 0.094,
            "bin_start": 0.0752,
            "count": 1
           },
           {
            "bin_end": 0.11280000000000001,
            "bin_start": 0.094,
            "count": 0
           },
           {
            "bin_end": 0.1316,
            "bin_start": 0.11280000000000001,
            "count": 0
           },
           {
            "bin_end": 0.1504,
            "bin_start": 0.1316,
            "count": 0
           },
           {
            "bin_end": 0.16920000000000002,
            "bin_start": 0.1504,
            "count": 1
           },
           {
            "bin_end": 0.188,
            "bin_start": 0.16920000000000002,
            "count": 1
           }
          ],
          "max": "0.188",
          "min": "0.0",
          "nan_count": 0,
          "unique_count": 5
         }
        },
        {
         "dtype": "float64",
         "name": "cascade",
         "stats": {
          "histogram": [
           {
            "bin_end": 0.0058,
            "bin_start": 0.003,
            "count": 1
           },
           {
            "bin_end": 0.0086,
            "bin_start": 0.0058,
            "count": 0
           },
           {
            "bin_end": 0.0114,
            "bin_start": 0.0086,
            "count": 0
           },
           {
            "bin_end": 0.0142,
            "bin_start": 0.0114,
            "count": 0
           },
           {
            "bin_end": 0.017,
            "bin_start": 0.0142,
            "count": 0
           },
           {
            "bin_end": 0.019799999999999998,
            "bin_start": 0.017,
            "count": 0
           },
           {
            "bin_end": 0.0226,
            "bin_start": 0.019799999999999998,
            "count": 1
           },
           {
            "bin_end": 0.0254,
            "bin_start": 0.0226,
            "count": 0
           },
           {
            "bin_end": 0.0282,
            "bin_start": 0.0254,
            "count": 2
           },
           {
            "bin_end": 0.031,
            "bin_start": 0.0282,
            "count": 1
           }
          ],
          "max": "0.031",
          "min": "0.003",
          "nan_count": 0,
          "unique_count": 5
         }
        },
        {
         "dtype": "float64",
         "name": "niche",
         "stats": {
          "histogram": [
           {
            "bin_end": 0.0031,
            "bin_start": 0,
            "count": 3
           },
           {
            "bin_end": 0.0062,
            "bin_start": 0.0031,
            "count": 0
           },
           {
            "bin_end": 0.0093,
            "bin_start": 0.0062,
            "count": 0
           },
           {
            "bin_end": 0.0124,
            "bin_start": 0.0093,
            "count": 0
           },
           {
            "bin_end": 0.0155,
            "bin_start": 0.0124,
            "count": 0
           },
           {
            "bin_end": 0.0186,
            "bin_start": 0.0155,
            "count": 0
           },
           {
            "bin_end": 0.0217,
            "bin_start": 0.0186,
            "count": 0
           },
           {
            "bin_end": 0.0248,
            "bin_start": 0.0217,
            "count": 0
           },
           {
            "bin_end": 0.027899999999999998,
            "bin_start": 0.0248,
            "count": 1
           },
           {
            "bin_end": 0.031,
            "bin_start": 0.027899999999999998,
            "count": 1
           }
          ],
          "max": "0.031",
          "min": "0.0",
          "nan_count": 0,
          "unique_count": 3
         }
        },
        {
         "dtype": "float64",
         "name": "nested",
         "stats": {
          "histogram": [
           {
            "bin_end": 0.0058,
            "bin_start": 0.003,
            "count": 1
           },
           {
            "bin_end": 0.0086,
            "bin_start": 0.0058,
            "count": 0
           },
           {
            "bin_end": 0.0114,
            "bin_start": 0.0086,
            "count": 0
           },
           {
            "bin_end": 0.0142,
            "bin_start": 0.0114,
            "count": 0
           },
           {
            "bin_end": 0.017,
            "bin_start": 0.0142,
            "count": 0
           },
           {
            "bin_end": 0.019799999999999998,
            "bin_start": 0.017,
            "count": 0
           },
           {
            "bin_end": 0.0226,
            "bin_start": 0.019799999999999998,
            "count": 1
           },
           {
            "bin_end": 0.0254,
            "bin_start": 0.0226,
            "count": 0
           },
           {
            "bin_end": 0.0282,
            "bin_start": 0.0254,
            "count": 2
           },
           {
            "bin_end": 0.031,
            "bin_start": 0.0282,
            "count": 1
           }
          ],
          "max": "0.031",
          "min": "0.003",
          "nan_count": 0,
          "unique_count": 5
         }
        },
        {
         "dtype": "object",
         "name": "_deepnote_index_column"
        }
       ],
       "row_count": 5,
       "rows": [
        {
         "_deepnote_index_column": "FW_004",
         "cascade": 0.031,
         "experimetal": 0.062,
         "nested": 0.031,
         "niche": 0.031
        },
        {
         "_deepnote_index_column": "FW_007",
         "cascade": 0.021,
         "experimetal": 0.188,
         "nested": 0.021,
         "niche": 0
        },
        {
         "_deepnote_index_column": "FW_008",
         "cascade": 0.003,
         "experimetal": 0.154,
         "nested": 0.003,
         "niche": 0.027
        },
        {
         "_deepnote_index_column": "FW_010",
         "cascade": 0.026,
         "experimetal": 0.077,
         "nested": 0.026,
         "niche": 0
        },
        {
         "_deepnote_index_column": "FW_016_01",
         "cascade": 0.027,
         "experimetal": 0,
         "nested": 0.027,
         "niche": 0
        }
       ]
      },
      "text/html": [
       "<div>\n",
       "<style scoped>\n",
       "    .dataframe tbody tr th:only-of-type {\n",
       "        vertical-align: middle;\n",
       "    }\n",
       "\n",
       "    .dataframe tbody tr th {\n",
       "        vertical-align: top;\n",
       "    }\n",
       "\n",
       "    .dataframe thead th {\n",
       "        text-align: right;\n",
       "    }\n",
       "</style>\n",
       "<table border=\"1\" class=\"dataframe\">\n",
       "  <thead>\n",
       "    <tr style=\"text-align: right;\">\n",
       "      <th></th>\n",
       "      <th>experimetal</th>\n",
       "      <th>cascade</th>\n",
       "      <th>niche</th>\n",
       "      <th>nested</th>\n",
       "    </tr>\n",
       "  </thead>\n",
       "  <tbody>\n",
       "    <tr>\n",
       "      <th>FW_004</th>\n",
       "      <td>0.062</td>\n",
       "      <td>0.031</td>\n",
       "      <td>0.031</td>\n",
       "      <td>0.031</td>\n",
       "    </tr>\n",
       "    <tr>\n",
       "      <th>FW_007</th>\n",
       "      <td>0.188</td>\n",
       "      <td>0.021</td>\n",
       "      <td>0.000</td>\n",
       "      <td>0.021</td>\n",
       "    </tr>\n",
       "    <tr>\n",
       "      <th>FW_008</th>\n",
       "      <td>0.154</td>\n",
       "      <td>0.003</td>\n",
       "      <td>0.027</td>\n",
       "      <td>0.003</td>\n",
       "    </tr>\n",
       "    <tr>\n",
       "      <th>FW_010</th>\n",
       "      <td>0.077</td>\n",
       "      <td>0.026</td>\n",
       "      <td>0.000</td>\n",
       "      <td>0.026</td>\n",
       "    </tr>\n",
       "    <tr>\n",
       "      <th>FW_016_01</th>\n",
       "      <td>0.000</td>\n",
       "      <td>0.027</td>\n",
       "      <td>0.000</td>\n",
       "      <td>0.027</td>\n",
       "    </tr>\n",
       "  </tbody>\n",
       "</table>\n",
       "</div>"
      ],
      "text/plain": [
       "           experimetal  cascade  niche  nested\n",
       "FW_004           0.062    0.031  0.031   0.031\n",
       "FW_007           0.188    0.021  0.000   0.021\n",
       "FW_008           0.154    0.003  0.027   0.003\n",
       "FW_010           0.077    0.026  0.000   0.026\n",
       "FW_016_01        0.000    0.027  0.000   0.027"
      ]
     },
     "execution_count": 9,
     "metadata": {},
     "output_type": "execute_result"
    }
   ],
   "source": [
    "DATA.applymap(relative_top_species)"
   ]
  },
  {
   "cell_type": "markdown",
   "metadata": {
    "cell_id": "00010-ffa2a11a-da8b-48b4-b5d3-6e19d169953a",
    "deepnote_cell_type": "markdown"
   },
   "source": [
    "## Directed Robustness"
   ]
  },
  {
   "cell_type": "code",
   "execution_count": null,
   "metadata": {
    "cell_id": "00011-d45a3d79-41ca-43e6-b112-52d5e1b209d2",
    "deepnote_cell_type": "code",
    "deepnote_to_be_reexecuted": false,
    "execution_millis": 12,
    "execution_start": 1643329720502,
    "source_hash": "8c2fc350"
   },
   "outputs": [],
   "source": [
    "def size_giant_component(G):\n",
    "    largest_cc = max(nx.connected_components(G), key=len)\n",
    "    return len(largest_cc)\n",
    "\n",
    "def directed_robustness(A,as_df=True): \n",
    "    \n",
    "    if as_df:\n",
    "        A = A.to_numpy()\n",
    "        \n",
    "    Adj = A.copy()\n",
    "\n",
    "    sums = A.sum(axis = 0) + 2**(-32)\n",
    "    M = A/sums\n",
    "    E = fw.PageRank(M,c=0.7)\n",
    "\n",
    "    size = len(E)\n",
    "    removed_nodes = 0\n",
    "    \n",
    "    R = 1\n",
    "    for i in range(size-1):\n",
    "        removed = np.argmax(E)\n",
    "        removed_nodes += 1\n",
    "\n",
    "        E[removed] = 0\n",
    "        \n",
    "        # remove row\n",
    "        Adj[removed] = 0\n",
    "        # remove column\n",
    "        Adj[:,removed] = 0\n",
    "    \n",
    "        G = nx.from_numpy_matrix(Adj, create_using=nx.Graph)\n",
    "        \n",
    "        if( size_giant_component(G) <= (size-removed_nodes)/2 ):\n",
    "            \n",
    "            R = removed_nodes/size\n",
    "            return np.round(R,3)\n",
    "    \n",
    "    return R"
   ]
  },
  {
   "cell_type": "code",
   "execution_count": null,
   "metadata": {
    "cell_id": "00012-1743a3dc-c032-42e4-a67b-4e900b954ac6",
    "deepnote_cell_type": "code",
    "deepnote_output_heights": [
     176
    ],
    "deepnote_to_be_reexecuted": false,
    "execution_millis": 10373,
    "execution_start": 1643329762242,
    "source_hash": "4a6d4786"
   },
   "outputs": [
    {
     "data": {
      "application/vnd.deepnote.dataframe.v3+json": {
       "column_count": 4,
       "columns": [
        {
         "dtype": "float64",
         "name": "experimetal",
         "stats": {
          "histogram": [
           {
            "bin_end": 0.6769000000000001,
            "bin_start": 0.641,
            "count": 2
           },
           {
            "bin_end": 0.7128,
            "bin_start": 0.6769000000000001,
            "count": 1
           },
           {
            "bin_end": 0.7487,
            "bin_start": 0.7128,
            "count": 0
           },
           {
            "bin_end": 0.7846,
            "bin_start": 0.7487,
            "count": 0
           },
           {
            "bin_end": 0.8205,
            "bin_start": 0.7846,
            "count": 0
           },
           {
            "bin_end": 0.8564,
            "bin_start": 0.8205,
            "count": 1
           },
           {
            "bin_end": 0.8923000000000001,
            "bin_start": 0.8564,
            "count": 0
           },
           {
            "bin_end": 0.9282,
            "bin_start": 0.8923000000000001,
            "count": 0
           },
           {
            "bin_end": 0.9641,
            "bin_start": 0.9282,
            "count": 0
           },
           {
            "bin_end": 1,
            "bin_start": 0.9641,
            "count": 1
           }
          ],
          "max": "1.0",
          "min": "0.641",
          "nan_count": 0,
          "unique_count": 5
         }
        },
        {
         "dtype": "int64",
         "name": "cascade",
         "stats": {
          "histogram": [
           {
            "bin_end": 0.6,
            "bin_start": 0.5,
            "count": 0
           },
           {
            "bin_end": 0.7,
            "bin_start": 0.6,
            "count": 0
           },
           {
            "bin_end": 0.8,
            "bin_start": 0.7,
            "count": 0
           },
           {
            "bin_end": 0.9,
            "bin_start": 0.8,
            "count": 0
           },
           {
            "bin_end": 1,
            "bin_start": 0.9,
            "count": 0
           },
           {
            "bin_end": 1.1,
            "bin_start": 1,
            "count": 5
           },
           {
            "bin_end": 1.2000000000000002,
            "bin_start": 1.1,
            "count": 0
           },
           {
            "bin_end": 1.3,
            "bin_start": 1.2000000000000002,
            "count": 0
           },
           {
            "bin_end": 1.4,
            "bin_start": 1.3,
            "count": 0
           },
           {
            "bin_end": 1.5,
            "bin_start": 1.4,
            "count": 0
           }
          ],
          "max": "1",
          "min": "1",
          "nan_count": 0,
          "unique_count": 1
         }
        },
        {
         "dtype": "float64",
         "name": "niche",
         "stats": {
          "histogram": [
           {
            "bin_end": 0.8613999999999999,
            "bin_start": 0.846,
            "count": 1
           },
           {
            "bin_end": 0.8768,
            "bin_start": 0.8613999999999999,
            "count": 0
           },
           {
            "bin_end": 0.8922,
            "bin_start": 0.8768,
            "count": 0
           },
           {
            "bin_end": 0.9076,
            "bin_start": 0.8922,
            "count": 0
           },
           {
            "bin_end": 0.923,
            "bin_start": 0.9076,
            "count": 0
           },
           {
            "bin_end": 0.9384,
            "bin_start": 0.923,
            "count": 0
           },
           {
            "bin_end": 0.9538,
            "bin_start": 0.9384,
            "count": 0
           },
           {
            "bin_end": 0.9692,
            "bin_start": 0.9538,
            "count": 1
           },
           {
            "bin_end": 0.9846,
            "bin_start": 0.9692,
            "count": 0
           },
           {
            "bin_end": 1,
            "bin_start": 0.9846,
            "count": 3
           }
          ],
          "max": "1.0",
          "min": "0.846",
          "nan_count": 0,
          "unique_count": 3
         }
        },
        {
         "dtype": "float64",
         "name": "nested",
         "stats": {
          "histogram": [
           {
            "bin_end": 0.6548,
            "bin_start": 0.625,
            "count": 1
           },
           {
            "bin_end": 0.6846,
            "bin_start": 0.6548,
            "count": 0
           },
           {
            "bin_end": 0.7144,
            "bin_start": 0.6846,
            "count": 0
           },
           {
            "bin_end": 0.7442,
            "bin_start": 0.7144,
            "count": 0
           },
           {
            "bin_end": 0.774,
            "bin_start": 0.7442,
            "count": 1
           },
           {
            "bin_end": 0.8038000000000001,
            "bin_start": 0.774,
            "count": 0
           },
           {
            "bin_end": 0.8336,
            "bin_start": 0.8038000000000001,
            "count": 0
           },
           {
            "bin_end": 0.8634000000000001,
            "bin_start": 0.8336,
            "count": 1
           },
           {
            "bin_end": 0.8932,
            "bin_start": 0.8634000000000001,
            "count": 1
           },
           {
            "bin_end": 0.923,
            "bin_start": 0.8932,
            "count": 1
           }
          ],
          "max": "0.923",
          "min": "0.625",
          "nan_count": 0,
          "unique_count": 5
         }
        },
        {
         "dtype": "object",
         "name": "_deepnote_index_column"
        }
       ],
       "row_count": 5,
       "rows": [
        {
         "_deepnote_index_column": "FW_004",
         "cascade": 1,
         "experimetal": 0.844,
         "nested": 0.75,
         "niche": 1
        },
        {
         "_deepnote_index_column": "FW_007",
         "cascade": 1,
         "experimetal": 0.667,
         "nested": 0.625,
         "niche": 1
        },
        {
         "_deepnote_index_column": "FW_008",
         "cascade": 1,
         "experimetal": 0.686,
         "nested": 0.874,
         "niche": 0.955
        },
        {
         "_deepnote_index_column": "FW_010",
         "cascade": 1,
         "experimetal": 0.641,
         "nested": 0.923,
         "niche": 0.846
        },
        {
         "_deepnote_index_column": "FW_016_01",
         "cascade": 1,
         "experimetal": 1,
         "nested": 0.838,
         "niche": 1
        }
       ]
      },
      "text/html": [
       "<div>\n",
       "<style scoped>\n",
       "    .dataframe tbody tr th:only-of-type {\n",
       "        vertical-align: middle;\n",
       "    }\n",
       "\n",
       "    .dataframe tbody tr th {\n",
       "        vertical-align: top;\n",
       "    }\n",
       "\n",
       "    .dataframe thead th {\n",
       "        text-align: right;\n",
       "    }\n",
       "</style>\n",
       "<table border=\"1\" class=\"dataframe\">\n",
       "  <thead>\n",
       "    <tr style=\"text-align: right;\">\n",
       "      <th></th>\n",
       "      <th>experimetal</th>\n",
       "      <th>cascade</th>\n",
       "      <th>niche</th>\n",
       "      <th>nested</th>\n",
       "    </tr>\n",
       "  </thead>\n",
       "  <tbody>\n",
       "    <tr>\n",
       "      <th>FW_004</th>\n",
       "      <td>0.844</td>\n",
       "      <td>1</td>\n",
       "      <td>1.000</td>\n",
       "      <td>0.750</td>\n",
       "    </tr>\n",
       "    <tr>\n",
       "      <th>FW_007</th>\n",
       "      <td>0.667</td>\n",
       "      <td>1</td>\n",
       "      <td>1.000</td>\n",
       "      <td>0.625</td>\n",
       "    </tr>\n",
       "    <tr>\n",
       "      <th>FW_008</th>\n",
       "      <td>0.686</td>\n",
       "      <td>1</td>\n",
       "      <td>0.955</td>\n",
       "      <td>0.874</td>\n",
       "    </tr>\n",
       "    <tr>\n",
       "      <th>FW_010</th>\n",
       "      <td>0.641</td>\n",
       "      <td>1</td>\n",
       "      <td>0.846</td>\n",
       "      <td>0.923</td>\n",
       "    </tr>\n",
       "    <tr>\n",
       "      <th>FW_016_01</th>\n",
       "      <td>1.000</td>\n",
       "      <td>1</td>\n",
       "      <td>1.000</td>\n",
       "      <td>0.838</td>\n",
       "    </tr>\n",
       "  </tbody>\n",
       "</table>\n",
       "</div>"
      ],
      "text/plain": [
       "           experimetal  cascade  niche  nested\n",
       "FW_004           0.844        1  1.000   0.750\n",
       "FW_007           0.667        1  1.000   0.625\n",
       "FW_008           0.686        1  0.955   0.874\n",
       "FW_010           0.641        1  0.846   0.923\n",
       "FW_016_01        1.000        1  1.000   0.838"
      ]
     },
     "execution_count": 12,
     "metadata": {},
     "output_type": "execute_result"
    }
   ],
   "source": [
    "DATA.applymap(lambda df: directed_robustness(df,as_df=True) )"
   ]
  },
  {
   "cell_type": "markdown",
   "metadata": {
    "cell_id": "00013-476ee84c-17aa-4837-9e18-4d07a26da9f8",
    "deepnote_cell_type": "markdown"
   },
   "source": [
    "## Assortativity"
   ]
  },
  {
   "cell_type": "code",
   "execution_count": null,
   "metadata": {
    "cell_id": "00014-f78fdb8b-7475-4fe0-8064-8f96483c6dc4",
    "deepnote_cell_type": "code",
    "deepnote_to_be_reexecuted": false,
    "execution_millis": 2,
    "execution_start": 1643329798249,
    "source_hash": "9a3d2561"
   },
   "outputs": [],
   "source": [
    "# ho barato e usato networkx perche non riuscivo a velocizzare l'altra funzione a sufficienza\n",
    "def make_assortativity(A): # function to map\n",
    "    G = nx.DiGraph(A)\n",
    "    return np.round(nx.degree_assortativity_coefficient(G, x='out', y='in'),decimals=3)"
   ]
  },
  {
   "cell_type": "code",
   "execution_count": null,
   "metadata": {
    "cell_id": "00015-35e4fed1-b9d2-44dc-91a0-81d9afabfe76",
    "deepnote_cell_type": "code",
    "deepnote_output_heights": [
     176
    ],
    "deepnote_to_be_reexecuted": false,
    "execution_millis": 255,
    "execution_start": 1643329799736,
    "source_hash": "8f4faf51"
   },
   "outputs": [
    {
     "data": {
      "application/vnd.deepnote.dataframe.v3+json": {
       "column_count": 4,
       "columns": [
        {
         "dtype": "float64",
         "name": "experimetal",
         "stats": {
          "histogram": [
           {
            "bin_end": -0.44,
            "bin_start": -0.489,
            "count": 2
           },
           {
            "bin_end": -0.391,
            "bin_start": -0.44,
            "count": 1
           },
           {
            "bin_end": -0.34199999999999997,
            "bin_start": -0.391,
            "count": 1
           },
           {
            "bin_end": -0.293,
            "bin_start": -0.34199999999999997,
            "count": 0
           },
           {
            "bin_end": -0.244,
            "bin_start": -0.293,
            "count": 0
           },
           {
            "bin_end": -0.19499999999999995,
            "bin_start": -0.244,
            "count": 0
           },
           {
            "bin_end": -0.14599999999999996,
            "bin_start": -0.19499999999999995,
            "count": 0
           },
           {
            "bin_end": -0.09699999999999998,
            "bin_start": -0.14599999999999996,
            "count": 0
           },
           {
            "bin_end": -0.04799999999999999,
            "bin_start": -0.09699999999999998,
            "count": 0
           },
           {
            "bin_end": 0.001,
            "bin_start": -0.04799999999999999,
            "count": 1
           }
          ],
          "max": "0.001",
          "min": "-0.489",
          "nan_count": 0,
          "unique_count": 5
         }
        },
        {
         "dtype": "float64",
         "name": "cascade",
         "stats": {
          "histogram": [
           {
            "bin_end": -0.6825,
            "bin_start": -0.708,
            "count": 1
           },
           {
            "bin_end": -0.657,
            "bin_start": -0.6825,
            "count": 0
           },
           {
            "bin_end": -0.6315,
            "bin_start": -0.657,
            "count": 0
           },
           {
            "bin_end": -0.606,
            "bin_start": -0.6315,
            "count": 0
           },
           {
            "bin_end": -0.5805,
            "bin_start": -0.606,
            "count": 0
           },
           {
            "bin_end": -0.5549999999999999,
            "bin_start": -0.5805,
            "count": 1
           },
           {
            "bin_end": -0.5295,
            "bin_start": -0.5549999999999999,
            "count": 1
           },
           {
            "bin_end": -0.504,
            "bin_start": -0.5295,
            "count": 0
           },
           {
            "bin_end": -0.47850000000000004,
            "bin_start": -0.504,
            "count": 0
           },
           {
            "bin_end": -0.453,
            "bin_start": -0.47850000000000004,
            "count": 2
           }
          ],
          "max": "-0.453",
          "min": "-0.708",
          "nan_count": 0,
          "unique_count": 5
         }
        },
        {
         "dtype": "float64",
         "name": "niche",
         "stats": {
          "histogram": [
           {
            "bin_end": -0.30820000000000003,
            "bin_start": -0.343,
            "count": 1
           },
           {
            "bin_end": -0.27340000000000003,
            "bin_start": -0.30820000000000003,
            "count": 0
           },
           {
            "bin_end": -0.2386,
            "bin_start": -0.27340000000000003,
            "count": 1
           },
           {
            "bin_end": -0.2038,
            "bin_start": -0.2386,
            "count": 0
           },
           {
            "bin_end": -0.169,
            "bin_start": -0.2038,
            "count": 0
           },
           {
            "bin_end": -0.13419999999999999,
            "bin_start": -0.169,
            "count": 1
           },
           {
            "bin_end": -0.09939999999999999,
            "bin_start": -0.13419999999999999,
            "count": 0
           },
           {
            "bin_end": -0.06459999999999999,
            "bin_start": -0.09939999999999999,
            "count": 1
           },
           {
            "bin_end": -0.029799999999999993,
            "bin_start": -0.06459999999999999,
            "count": 0
           },
           {
            "bin_end": 0.005,
            "bin_start": -0.029799999999999993,
            "count": 1
           }
          ],
          "max": "0.005",
          "min": "-0.343",
          "nan_count": 0,
          "unique_count": 5
         }
        },
        {
         "dtype": "float64",
         "name": "nested",
         "stats": {
          "histogram": [
           {
            "bin_end": -0.0825,
            "bin_start": -0.098,
            "count": 1
           },
           {
            "bin_end": -0.067,
            "bin_start": -0.0825,
            "count": 0
           },
           {
            "bin_end": -0.051500000000000004,
            "bin_start": -0.067,
            "count": 0
           },
           {
            "bin_end": -0.036000000000000004,
            "bin_start": -0.051500000000000004,
            "count": 1
           },
           {
            "bin_end": -0.020500000000000004,
            "bin_start": -0.036000000000000004,
            "count": 0
           },
           {
            "bin_end": -0.0050000000000000044,
            "bin_start": -0.020500000000000004,
            "count": 0
           },
           {
            "bin_end": 0.010499999999999995,
            "bin_start": -0.0050000000000000044,
            "count": 1
           },
           {
            "bin_end": 0.025999999999999995,
            "bin_start": 0.010499999999999995,
            "count": 0
           },
           {
            "bin_end": 0.04150000000000001,
            "bin_start": 0.025999999999999995,
            "count": 0
           },
           {
            "bin_end": 0.057,
            "bin_start": 0.04150000000000001,
            "count": 2
           }
          ],
          "max": "0.057",
          "min": "-0.098",
          "nan_count": 0,
          "unique_count": 5
         }
        },
        {
         "dtype": "object",
         "name": "_deepnote_index_column"
        }
       ],
       "row_count": 5,
       "rows": [
        {
         "_deepnote_index_column": "FW_004",
         "cascade": -0.708,
         "experimetal": -0.384,
         "nested": 0.057,
         "niche": -0.25
        },
        {
         "_deepnote_index_column": "FW_007",
         "cascade": -0.565,
         "experimetal": 0.001,
         "nested": 0.048,
         "niche": -0.069
        },
        {
         "_deepnote_index_column": "FW_008",
         "cascade": -0.472,
         "experimetal": -0.458,
         "nested": -0.049,
         "niche": -0.136
        },
        {
         "_deepnote_index_column": "FW_010",
         "cascade": -0.453,
         "experimetal": -0.489,
         "nested": 0.004,
         "niche": 0.005
        },
        {
         "_deepnote_index_column": "FW_016_01",
         "cascade": -0.552,
         "experimetal": -0.429,
         "nested": -0.098,
         "niche": -0.343
        }
       ]
      },
      "text/html": [
       "<div>\n",
       "<style scoped>\n",
       "    .dataframe tbody tr th:only-of-type {\n",
       "        vertical-align: middle;\n",
       "    }\n",
       "\n",
       "    .dataframe tbody tr th {\n",
       "        vertical-align: top;\n",
       "    }\n",
       "\n",
       "    .dataframe thead th {\n",
       "        text-align: right;\n",
       "    }\n",
       "</style>\n",
       "<table border=\"1\" class=\"dataframe\">\n",
       "  <thead>\n",
       "    <tr style=\"text-align: right;\">\n",
       "      <th></th>\n",
       "      <th>experimetal</th>\n",
       "      <th>cascade</th>\n",
       "      <th>niche</th>\n",
       "      <th>nested</th>\n",
       "    </tr>\n",
       "  </thead>\n",
       "  <tbody>\n",
       "    <tr>\n",
       "      <th>FW_004</th>\n",
       "      <td>-0.384</td>\n",
       "      <td>-0.708</td>\n",
       "      <td>-0.250</td>\n",
       "      <td>0.057</td>\n",
       "    </tr>\n",
       "    <tr>\n",
       "      <th>FW_007</th>\n",
       "      <td>0.001</td>\n",
       "      <td>-0.565</td>\n",
       "      <td>-0.069</td>\n",
       "      <td>0.048</td>\n",
       "    </tr>\n",
       "    <tr>\n",
       "      <th>FW_008</th>\n",
       "      <td>-0.458</td>\n",
       "      <td>-0.472</td>\n",
       "      <td>-0.136</td>\n",
       "      <td>-0.049</td>\n",
       "    </tr>\n",
       "    <tr>\n",
       "      <th>FW_010</th>\n",
       "      <td>-0.489</td>\n",
       "      <td>-0.453</td>\n",
       "      <td>0.005</td>\n",
       "      <td>0.004</td>\n",
       "    </tr>\n",
       "    <tr>\n",
       "      <th>FW_016_01</th>\n",
       "      <td>-0.429</td>\n",
       "      <td>-0.552</td>\n",
       "      <td>-0.343</td>\n",
       "      <td>-0.098</td>\n",
       "    </tr>\n",
       "  </tbody>\n",
       "</table>\n",
       "</div>"
      ],
      "text/plain": [
       "           experimetal  cascade  niche  nested\n",
       "FW_004          -0.384   -0.708 -0.250   0.057\n",
       "FW_007           0.001   -0.565 -0.069   0.048\n",
       "FW_008          -0.458   -0.472 -0.136  -0.049\n",
       "FW_010          -0.489   -0.453  0.005   0.004\n",
       "FW_016_01       -0.429   -0.552 -0.343  -0.098"
      ]
     },
     "execution_count": 16,
     "metadata": {},
     "output_type": "execute_result"
    }
   ],
   "source": [
    "DATA.applymap(make_assortativity)"
   ]
  },
  {
   "cell_type": "markdown",
   "metadata": {
    "cell_id": "00016-f06d8083-630b-467c-abef-dd3aaffd4990",
    "deepnote_cell_type": "markdown"
   },
   "source": [
    "## Gamma in/out"
   ]
  },
  {
   "cell_type": "code",
   "execution_count": null,
   "metadata": {
    "cell_id": "00017-c2fc9125-7e66-455f-9169-b773fa5cb5b5",
    "deepnote_cell_type": "code"
   },
   "outputs": [],
   "source": [
    "# in order to compute gamma in and out with its errors it's useful to analyze the generated nets \n",
    "# by hand and choose the right cutoff \n",
    "indexrandom = {\"cascade\":1, \"niche\":2, \"nested\":3}\n",
    "indexfw = 1\n",
    "niche = DATA.iloc[indexfw,indexrandom[\"cascade\"]]"
   ]
  },
  {
   "cell_type": "code",
   "execution_count": null,
   "metadata": {
    "cell_id": "00018-fa4f63c7-b2a6-4322-888d-a456f8a2a089",
    "deepnote_cell_type": "code"
   },
   "outputs": [],
   "source": []
  },
  {
   "cell_type": "code",
   "execution_count": null,
   "metadata": {
    "cell_id": "00019-835face2-ef4a-488c-8c64-272f14dfcc4b",
    "deepnote_cell_type": "code"
   },
   "outputs": [],
   "source": []
  },
  {
   "cell_type": "code",
   "execution_count": null,
   "metadata": {
    "cell_id": "00020-2da9311f-8e4c-4a70-9b4b-8c0bb1e19714",
    "deepnote_cell_type": "code"
   },
   "outputs": [],
   "source": []
  },
  {
   "cell_type": "code",
   "execution_count": null,
   "metadata": {
    "cell_id": "00021-c76da2d5-44f9-494a-ab95-404640ddfa4a",
    "deepnote_cell_type": "code"
   },
   "outputs": [],
   "source": []
  },
  {
   "cell_type": "code",
   "execution_count": null,
   "metadata": {
    "cell_id": "00022-cc0f763f-552d-4032-88bf-ef84dbe833d2",
    "deepnote_cell_type": "code"
   },
   "outputs": [],
   "source": [
    "def random_edge_swap(A,n_swaps=None, as_df=True):\n",
    "    \n",
    "    monitor=False\n",
    "    \n",
    "    DiG = nx.DiGraph(A)         # casts A into a network x directed graph\n",
    "    edgelist = list(DiG.edges)\n",
    "    N = len(edgelist)\n",
    "    \n",
    "    if(monitor): print(f\"r_edge_funct, Nedges={N}\")\n",
    "\n",
    "    if n_swaps is None:\n",
    "        n_swaps = N*3\n",
    "\n",
    "    i,j = 0,0\n",
    "    while i < n_swaps and j < 10000:\n",
    "        \n",
    "        if(monitor and j%1000==0 and j!=0): print(j,i,\" swaps_target=\", n_swaps)\n",
    "                \n",
    "        edgelist = np.array(DiG.edges)\n",
    "        e1,e2 = edgelist[np.random.choice(N,2)]    # select two edges at random\n",
    "        swap1 = np.array([e1[0],e2[1]])            # exchange preis between predators\n",
    "        swap2 = np.array([e2[0],e1[1]])\n",
    "        \n",
    "        present1 = (edgelist==swap1).all(axis=1).any()  # mask to see if swap1 is alredy present\n",
    "        present2 = (edgelist==swap2).all(axis=1).any()  # mask to see if swap2 is alredy present\n",
    "        \n",
    "        if ( not present1 ) and ( not present2 ):  # if the none of the new edges are alredy present\n",
    "            DiG.remove_edge(*e1)  # remove old edges\n",
    "            DiG.remove_edge(*e2)\n",
    "            DiG.add_edge(*swap1)  # add swapped edges\n",
    "            DiG.add_edge(*swap2)\n",
    "            i += 1\n",
    "        \n",
    "        j+=1\n",
    "            \n",
    "    if as_df:\n",
    "        return nx.to_pandas_adjacency(DiG)\n",
    "    else:\n",
    "        return nx.to_numpy_array(DiG)\n",
    "\n",
    "\n",
    "def compute_assortativity(A,as_df=True):\n",
    "    \"\"\"Compute assortativity \n",
    "        (ATTENTION!!!!!!!A needs to be a boolean matrix)\n",
    "        Returns:\n",
    "                mu and computed error on mu\"\"\"\n",
    "    \n",
    "    if as_df:\n",
    "        A = A.values.astype(bool)\n",
    "    else:\n",
    "        A = A.astype(bool)\n",
    "        \n",
    "    deg = [np.sum(a) for a in A.T if a.sum()]\n",
    "    Knn = np.array([np.sum(A[mask])/(mask.sum()) for mask in A.T if mask.sum()])\n",
    "    unique_deg,counts = np.unique(deg,return_counts=True)\n",
    "    Knn_redux = []\n",
    "    for u_deg,count in zip(unique_deg,counts):\n",
    "        mask = deg==u_deg\n",
    "        Knn_redux.append(Knn[mask].sum()/count)\n",
    "\n",
    "    logu,logKnn = np.log10(unique_deg),np.log10(Knn_redux)\n",
    "    params,cov = np.polyfit(logu,logKnn,1,cov=True)\n",
    "    mu,q = params[0],params[1]\n",
    "    \n",
    "    return mu, np.sqrt(cov[0,0])\n",
    "\n",
    "def compute_assortativity_diff(A):\n",
    "    \n",
    "    n0 = 15\n",
    "    \n",
    "    ass, Dass = compute_assortativity(A)\n",
    "    ass0_arr = np.array([compute_assortativity(random_edge_swap(A))[0] for i in range(n0)])\n",
    "    ass0 = ass0_arr.mean()\n",
    "    Dass0 = ass0_arr.std()/np.sqrt(n0-1)\n",
    "    \n",
    "    #print(ass0_arr)\n",
    "    #print(Dass,ass0_arr.std())\n",
    "    \n",
    "    ass_diff   = ass-ass0\n",
    "    rDass_diff = np.sqrt(Dass**2+Dass0**2)/np.abs(ass_diff) # relative error\n",
    "    return ass_diff, rDass_diff"
   ]
  },
  {
   "cell_type": "code",
   "execution_count": null,
   "metadata": {
    "cell_id": "00023-d608ef49-85d3-41a3-a485-5fbac3fd99c6",
    "deepnote_cell_type": "code"
   },
   "outputs": [
    {
     "name": "stdout",
     "output_type": "stream",
     "text": [
      "(-0.3808257682417172, 0.4788387691861018)\n",
      "(-0.3714525926219635, 0.48937812132083613)\n",
      "(-0.40627057051063326, 0.4486042421541698)\n",
      "(-0.39371890796399195, 0.4609172725024465)\n",
      "(-0.4002011636424049, 0.45375818585077704)\n",
      "(-0.3321948595212076, 0.5470373340216725)\n",
      "(-0.36207505250251826, 0.5020021454637619)\n",
      "(-0.37621645852946606, 0.4835222792010258)\n",
      "(-0.3868626483642612, 0.4717284795804462)\n",
      "(-0.3932162290118382, 0.4635942054550725)\n"
     ]
    }
   ],
   "source": [
    "for i in range(10):\n",
    "    print(compute_assortativity_diff(A))"
   ]
  },
  {
   "cell_type": "code",
   "execution_count": null,
   "metadata": {
    "cell_id": "00024-d09c9aca-18ef-47c8-ab7f-f0b648a9f303",
    "deepnote_cell_type": "code",
    "deepnote_output_heights": [
     null,
     176
    ]
   },
   "outputs": [
    {
     "name": "stdout",
     "output_type": "stream",
     "text": [
      "number of edges\n"
     ]
    },
    {
     "data": {
      "text/html": [
       "<div>\n",
       "<style scoped>\n",
       "    .dataframe tbody tr th:only-of-type {\n",
       "        vertical-align: middle;\n",
       "    }\n",
       "\n",
       "    .dataframe tbody tr th {\n",
       "        vertical-align: top;\n",
       "    }\n",
       "\n",
       "    .dataframe thead th {\n",
       "        text-align: right;\n",
       "    }\n",
       "</style>\n",
       "<table border=\"1\" class=\"dataframe\">\n",
       "  <thead>\n",
       "    <tr style=\"text-align: right;\">\n",
       "      <th></th>\n",
       "      <th>experimetal</th>\n",
       "      <th>cascade</th>\n",
       "      <th>niche</th>\n",
       "      <th>nested</th>\n",
       "    </tr>\n",
       "  </thead>\n",
       "  <tbody>\n",
       "    <tr>\n",
       "      <th>FW_004</th>\n",
       "      <td>140</td>\n",
       "      <td>141</td>\n",
       "      <td>140</td>\n",
       "      <td>140</td>\n",
       "    </tr>\n",
       "    <tr>\n",
       "      <th>FW_007</th>\n",
       "      <td>221</td>\n",
       "      <td>222</td>\n",
       "      <td>220</td>\n",
       "      <td>221</td>\n",
       "    </tr>\n",
       "    <tr>\n",
       "      <th>FW_008</th>\n",
       "      <td>3313</td>\n",
       "      <td>3303</td>\n",
       "      <td>3294</td>\n",
       "      <td>3287</td>\n",
       "    </tr>\n",
       "    <tr>\n",
       "      <th>FW_010</th>\n",
       "      <td>248</td>\n",
       "      <td>248</td>\n",
       "      <td>248</td>\n",
       "      <td>249</td>\n",
       "    </tr>\n",
       "    <tr>\n",
       "      <th>FW_016_01</th>\n",
       "      <td>242</td>\n",
       "      <td>242</td>\n",
       "      <td>244</td>\n",
       "      <td>242</td>\n",
       "    </tr>\n",
       "  </tbody>\n",
       "</table>\n",
       "</div>"
      ],
      "text/plain": [
       "           experimetal  cascade  niche  nested\n",
       "FW_004             140      141    140     140\n",
       "FW_007             221      222    220     221\n",
       "FW_008            3313     3303   3294    3287\n",
       "FW_010             248      248    248     249\n",
       "FW_016_01          242      242    244     242"
      ]
     },
     "execution_count": 228,
     "metadata": {},
     "output_type": "execute_result"
    }
   ],
   "source": [
    "def nedges(A): # function in order to inspect the complexity of computing assortativity\n",
    "    DiG = nx.DiGraph(A)         # casts A into a network x directed graph\n",
    "    edgelist = list(DiG.edges)\n",
    "    return len(edgelist)\n",
    "\n",
    "print(\"number of edges\")\n",
    "DATA.applymap(nedges)"
   ]
  },
  {
   "cell_type": "markdown",
   "metadata": {
    "created_in_deepnote_cell": true,
    "deepnote_cell_type": "markdown",
    "tags": []
   },
   "source": [
    "<a style='text-decoration:none;line-height:16px;display:flex;color:#5B5B62;padding:10px;justify-content:end;' href='https://deepnote.com?utm_source=created-in-deepnote-cell&projectId=bafb9d42-dc34-452b-a8e3-e23b911a3756' target=\"_blank\">\n",
    "<img alt='Created in deepnote.com' style='display:inline;max-height:16px;margin:0px;margin-right:7.5px;' src='data:image/svg+xml;base64,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' > </img>\n",
    "Created in <span style='font-weight:600;margin-left:4px;'>Deepnote</span></a>"
   ]
  }
 ],
 "metadata": {
  "deepnote": {},
  "deepnote_execution_queue": [],
  "deepnote_notebook_id": "0b01d3dc-77c4-4e18-8d80-fa4c36c38a2f",
  "kernelspec": {
   "display_name": "Python 3 (ipykernel)",
   "language": "python",
   "name": "python3"
  },
  "language_info": {
   "codemirror_mode": {
    "name": "ipython",
    "version": 3
   },
   "file_extension": ".py",
   "mimetype": "text/x-python",
   "name": "python",
   "nbconvert_exporter": "python",
   "pygments_lexer": "ipython3",
   "version": "3.8.6"
  }
 },
 "nbformat": 4,
 "nbformat_minor": 5
}
